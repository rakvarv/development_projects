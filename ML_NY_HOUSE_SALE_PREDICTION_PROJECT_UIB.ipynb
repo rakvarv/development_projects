{
 "cells": [
  {
   "cell_type": "markdown",
   "metadata": {},
   "source": [
    "## Below we are referencing the dataset and doing some very basic pre-processing to make our data look better"
   ]
  },
  {
   "cell_type": "code",
   "execution_count": 1,
   "metadata": {},
   "outputs": [],
   "source": [
    "import pandas as pd\n",
    "import numpy as np\n",
    "import matplotlib.pyplot as plt\n",
    "%matplotlib inline\n",
    "import seaborn as sns\n",
    "import warnings\n",
    "warnings.filterwarnings('ignore')\n",
    "\n",
    "from sklearn.model_selection import train_test_split \n",
    "from sklearn.model_selection import GridSearchCV\n",
    "from sklearn.preprocessing import StandardScaler\n",
    "\n",
    "from sklearn.ensemble import RandomForestRegressor\n",
    "\n",
    "from sklearn import metrics\n",
    "from sklearn.metrics import mean_squared_error\n",
    "from sklearn.model_selection import cross_val_score\n",
    "\n",
    "from scipy import stats\n",
    "from scipy.stats import shapiro"
   ]
  },
  {
   "cell_type": "code",
   "execution_count": 2,
   "metadata": {},
   "outputs": [],
   "source": [
    "df = pd.read_csv('nyc-rolling-sales.csv')"
   ]
  },
  {
   "cell_type": "markdown",
   "metadata": {},
   "source": [
    "# Reason for dropping EASE-MENT and Unnamed: 0\n",
    "The column EASE-MENT is dropped because it is completely and does not serve any value in the prediction of house prices. \n",
    "\n",
    "We are dropping Unnamed: 0 as it seems to be an iterator and serves no real purpose in predicting house prices, it seems to  equate to AmountOfRows(x), x being the row. "
   ]
  },
  {
   "cell_type": "code",
   "execution_count": 3,
   "metadata": {},
   "outputs": [],
   "source": [
    "#Dropping column as it is empty\n",
    "del df['EASE-MENT']\n",
    "#Dropping as it looks like an iterator\n",
    "del df['Unnamed: 0']\n",
    "\n",
    "del df['SALE DATE']"
   ]
  },
  {
   "cell_type": "code",
   "execution_count": 4,
   "metadata": {},
   "outputs": [
    {
     "data": {
      "text/plain": [
       "1358"
      ]
     },
     "execution_count": 4,
     "metadata": {},
     "output_type": "execute_result"
    }
   ],
   "source": [
    "#Checking for duplicated entries\n",
    "sum(df.duplicated(df.columns))\n"
   ]
  },
  {
   "cell_type": "markdown",
   "metadata": {},
   "source": [
    "# Why are we removing duplicate values?\n",
    "The reason we are removing the duplicates is because we are trying to avoid potential overfitting that might or might not be because of those duplicate values. but is not guaranteed as it just adds more weight to the data"
   ]
  },
  {
   "cell_type": "code",
   "execution_count": 5,
   "metadata": {},
   "outputs": [
    {
     "data": {
      "text/plain": [
       "0"
      ]
     },
     "execution_count": 5,
     "metadata": {},
     "output_type": "execute_result"
    }
   ],
   "source": [
    "#Delete the duplicates and check that it worked\n",
    "\n",
    "df = df.drop_duplicates(df.columns, keep='last')\n",
    "sum(df.duplicated(df.columns))\n",
    "\n",
    "# Current duplicate values after removal: 0"
   ]
  },
  {
   "cell_type": "code",
   "execution_count": 6,
   "metadata": {},
   "outputs": [],
   "source": [
    "# onverting some of the columns to appropriate datatype\n",
    "\n",
    "df['TAX CLASS AT TIME OF SALE'] = df['TAX CLASS AT TIME OF SALE'].astype('category')\n",
    "df['TAX CLASS AT PRESENT'] = df['TAX CLASS AT PRESENT'].astype('category')\n",
    "df['LAND SQUARE FEET'] = pd.to_numeric(df['LAND SQUARE FEET'], errors='coerce')\n",
    "df['GROSS SQUARE FEET']= pd.to_numeric(df['GROSS SQUARE FEET'], errors='coerce')\n",
    "#df['SALE DATE'] = pd.to_datetime(df['SALE DATE'], errors='coerce')\n",
    "df['SALE PRICE'] = pd.to_numeric(df['SALE PRICE'], errors='coerce')\n",
    "df['BOROUGH'] = df['BOROUGH'].astype('category')"
   ]
  },
  {
   "cell_type": "code",
   "execution_count": 7,
   "metadata": {},
   "outputs": [
    {
     "data": {
      "text/plain": [
       "Index(['LAND SQUARE FEET', 'GROSS SQUARE FEET', 'SALE PRICE'], dtype='object')"
      ]
     },
     "execution_count": 7,
     "metadata": {},
     "output_type": "execute_result"
    }
   ],
   "source": [
    "#checking missing values\n",
    "\n",
    "df.columns[df.isnull().any()]"
   ]
  },
  {
   "cell_type": "code",
   "execution_count": 8,
   "metadata": {},
   "outputs": [
    {
     "data": {
      "text/plain": [
       "SALE PRICE           0.167196\n",
       "LAND SQUARE FEET     0.312213\n",
       "GROSS SQUARE FEET    0.327888\n",
       "dtype: float64"
      ]
     },
     "execution_count": 8,
     "metadata": {},
     "output_type": "execute_result"
    }
   ],
   "source": [
    "# organizing the columns with missing values including its values\n",
    "\n",
    "miss=df.isnull().sum()/len(df)\n",
    "miss=miss[miss>0]\n",
    "miss.sort_values(inplace=True)\n",
    "miss"
   ]
  },
  {
   "cell_type": "code",
   "execution_count": 9,
   "metadata": {},
   "outputs": [
    {
     "data": {
      "text/html": [
       "<div>\n",
       "<style scoped>\n",
       "    .dataframe tbody tr th:only-of-type {\n",
       "        vertical-align: middle;\n",
       "    }\n",
       "\n",
       "    .dataframe tbody tr th {\n",
       "        vertical-align: top;\n",
       "    }\n",
       "\n",
       "    .dataframe thead th {\n",
       "        text-align: right;\n",
       "    }\n",
       "</style>\n",
       "<table border=\"1\" class=\"dataframe\">\n",
       "  <thead>\n",
       "    <tr style=\"text-align: right;\">\n",
       "      <th></th>\n",
       "      <th>count</th>\n",
       "      <th>Name</th>\n",
       "    </tr>\n",
       "    <tr>\n",
       "      <th>Name</th>\n",
       "      <th></th>\n",
       "      <th></th>\n",
       "    </tr>\n",
       "  </thead>\n",
       "  <tbody>\n",
       "    <tr>\n",
       "      <th>SALE PRICE</th>\n",
       "      <td>0.167196</td>\n",
       "      <td>SALE PRICE</td>\n",
       "    </tr>\n",
       "    <tr>\n",
       "      <th>LAND SQUARE FEET</th>\n",
       "      <td>0.312213</td>\n",
       "      <td>LAND SQUARE FEET</td>\n",
       "    </tr>\n",
       "    <tr>\n",
       "      <th>GROSS SQUARE FEET</th>\n",
       "      <td>0.327888</td>\n",
       "      <td>GROSS SQUARE FEET</td>\n",
       "    </tr>\n",
       "  </tbody>\n",
       "</table>\n",
       "</div>"
      ],
      "text/plain": [
       "                      count               Name\n",
       "Name                                          \n",
       "SALE PRICE         0.167196         SALE PRICE\n",
       "LAND SQUARE FEET   0.312213   LAND SQUARE FEET\n",
       "GROSS SQUARE FEET  0.327888  GROSS SQUARE FEET"
      ]
     },
     "execution_count": 9,
     "metadata": {},
     "output_type": "execute_result"
    }
   ],
   "source": [
    "# doing the same as previous box, but with better aesthetics. \n",
    "\n",
    "miss=miss.to_frame()\n",
    "miss.columns=['count']\n",
    "miss.index.names=['Name']\n",
    "miss['Name']=miss.index\n",
    "miss"
   ]
  },
  {
   "cell_type": "markdown",
   "metadata": {},
   "source": [
    "# Why fill up the columns?\n",
    "All these missing values can be data corruption or failure to record data. To handle these different missing data is a very important part of the pre-processing. Including, many machine-learning algorithms do not support all these missing values, and therefor needs to be delt with. And the way we choose to deal with them, is get the mean value of the column, and replace the missing values with that average value. Deleting all the rows that are missing values can cause detrimental changes to the prediction of the algorithms, and in worst case scenario make it predict a lot worse than it could have. "
   ]
  },
  {
   "cell_type": "code",
   "execution_count": 10,
   "metadata": {},
   "outputs": [],
   "source": [
    "# FIlling up columns with mean value to replace the missing values.\n",
    "df['LAND SQUARE FEET']=df['LAND SQUARE FEET'].fillna(df['LAND SQUARE FEET'].mean())\n",
    "df['GROSS SQUARE FEET']=df['GROSS SQUARE FEET'].fillna(df['GROSS SQUARE FEET'].mean())"
   ]
  },
  {
   "cell_type": "code",
   "execution_count": 11,
   "metadata": {},
   "outputs": [],
   "source": [
    "# Splitting dataset \n",
    "test=df[df['SALE PRICE'].isna()]\n",
    "data=df[~df['SALE PRICE'].isna()]"
   ]
  },
  {
   "cell_type": "code",
   "execution_count": 12,
   "metadata": {},
   "outputs": [],
   "source": [
    "test = test.drop(columns='SALE PRICE')"
   ]
  },
  {
   "cell_type": "code",
   "execution_count": 13,
   "metadata": {},
   "outputs": [
    {
     "name": "stdout",
     "output_type": "stream",
     "text": [
      "(13909, 18)\n"
     ]
    },
    {
     "data": {
      "text/html": [
       "<div>\n",
       "<style scoped>\n",
       "    .dataframe tbody tr th:only-of-type {\n",
       "        vertical-align: middle;\n",
       "    }\n",
       "\n",
       "    .dataframe tbody tr th {\n",
       "        vertical-align: top;\n",
       "    }\n",
       "\n",
       "    .dataframe thead th {\n",
       "        text-align: right;\n",
       "    }\n",
       "</style>\n",
       "<table border=\"1\" class=\"dataframe\">\n",
       "  <thead>\n",
       "    <tr style=\"text-align: right;\">\n",
       "      <th></th>\n",
       "      <th>BOROUGH</th>\n",
       "      <th>NEIGHBORHOOD</th>\n",
       "      <th>BUILDING CLASS CATEGORY</th>\n",
       "      <th>TAX CLASS AT PRESENT</th>\n",
       "      <th>BLOCK</th>\n",
       "      <th>LOT</th>\n",
       "      <th>BUILDING CLASS AT PRESENT</th>\n",
       "      <th>ADDRESS</th>\n",
       "      <th>APARTMENT NUMBER</th>\n",
       "      <th>ZIP CODE</th>\n",
       "      <th>RESIDENTIAL UNITS</th>\n",
       "      <th>COMMERCIAL UNITS</th>\n",
       "      <th>TOTAL UNITS</th>\n",
       "      <th>LAND SQUARE FEET</th>\n",
       "      <th>GROSS SQUARE FEET</th>\n",
       "      <th>YEAR BUILT</th>\n",
       "      <th>TAX CLASS AT TIME OF SALE</th>\n",
       "      <th>BUILDING CLASS AT TIME OF SALE</th>\n",
       "    </tr>\n",
       "  </thead>\n",
       "  <tbody>\n",
       "    <tr>\n",
       "      <th>1</th>\n",
       "      <td>1</td>\n",
       "      <td>ALPHABET CITY</td>\n",
       "      <td>07 RENTALS - WALKUP APARTMENTS</td>\n",
       "      <td>2</td>\n",
       "      <td>399</td>\n",
       "      <td>26</td>\n",
       "      <td>C7</td>\n",
       "      <td>234 EAST 4TH   STREET</td>\n",
       "      <td></td>\n",
       "      <td>10009</td>\n",
       "      <td>28</td>\n",
       "      <td>3</td>\n",
       "      <td>31</td>\n",
       "      <td>4616.0</td>\n",
       "      <td>18690.0</td>\n",
       "      <td>1900</td>\n",
       "      <td>2</td>\n",
       "      <td>C7</td>\n",
       "    </tr>\n",
       "    <tr>\n",
       "      <th>2</th>\n",
       "      <td>1</td>\n",
       "      <td>ALPHABET CITY</td>\n",
       "      <td>07 RENTALS - WALKUP APARTMENTS</td>\n",
       "      <td>2</td>\n",
       "      <td>399</td>\n",
       "      <td>39</td>\n",
       "      <td>C7</td>\n",
       "      <td>197 EAST 3RD   STREET</td>\n",
       "      <td></td>\n",
       "      <td>10009</td>\n",
       "      <td>16</td>\n",
       "      <td>1</td>\n",
       "      <td>17</td>\n",
       "      <td>2212.0</td>\n",
       "      <td>7803.0</td>\n",
       "      <td>1900</td>\n",
       "      <td>2</td>\n",
       "      <td>C7</td>\n",
       "    </tr>\n",
       "    <tr>\n",
       "      <th>5</th>\n",
       "      <td>1</td>\n",
       "      <td>ALPHABET CITY</td>\n",
       "      <td>07 RENTALS - WALKUP APARTMENTS</td>\n",
       "      <td>2</td>\n",
       "      <td>405</td>\n",
       "      <td>16</td>\n",
       "      <td>C4</td>\n",
       "      <td>516 EAST 12TH   STREET</td>\n",
       "      <td></td>\n",
       "      <td>10009</td>\n",
       "      <td>20</td>\n",
       "      <td>0</td>\n",
       "      <td>20</td>\n",
       "      <td>2581.0</td>\n",
       "      <td>9730.0</td>\n",
       "      <td>1900</td>\n",
       "      <td>2</td>\n",
       "      <td>C4</td>\n",
       "    </tr>\n",
       "    <tr>\n",
       "      <th>7</th>\n",
       "      <td>1</td>\n",
       "      <td>ALPHABET CITY</td>\n",
       "      <td>07 RENTALS - WALKUP APARTMENTS</td>\n",
       "      <td>2</td>\n",
       "      <td>407</td>\n",
       "      <td>18</td>\n",
       "      <td>C7</td>\n",
       "      <td>520 EAST 14TH   STREET</td>\n",
       "      <td></td>\n",
       "      <td>10009</td>\n",
       "      <td>44</td>\n",
       "      <td>2</td>\n",
       "      <td>46</td>\n",
       "      <td>5163.0</td>\n",
       "      <td>21007.0</td>\n",
       "      <td>1900</td>\n",
       "      <td>2</td>\n",
       "      <td>C7</td>\n",
       "    </tr>\n",
       "    <tr>\n",
       "      <th>8</th>\n",
       "      <td>1</td>\n",
       "      <td>ALPHABET CITY</td>\n",
       "      <td>08 RENTALS - ELEVATOR APARTMENTS</td>\n",
       "      <td>2</td>\n",
       "      <td>379</td>\n",
       "      <td>34</td>\n",
       "      <td>D5</td>\n",
       "      <td>141 AVENUE D</td>\n",
       "      <td></td>\n",
       "      <td>10009</td>\n",
       "      <td>15</td>\n",
       "      <td>0</td>\n",
       "      <td>15</td>\n",
       "      <td>1534.0</td>\n",
       "      <td>9198.0</td>\n",
       "      <td>1920</td>\n",
       "      <td>2</td>\n",
       "      <td>D5</td>\n",
       "    </tr>\n",
       "  </tbody>\n",
       "</table>\n",
       "</div>"
      ],
      "text/plain": [
       "  BOROUGH   NEIGHBORHOOD                      BUILDING CLASS CATEGORY  \\\n",
       "1       1  ALPHABET CITY  07 RENTALS - WALKUP APARTMENTS                \n",
       "2       1  ALPHABET CITY  07 RENTALS - WALKUP APARTMENTS                \n",
       "5       1  ALPHABET CITY  07 RENTALS - WALKUP APARTMENTS                \n",
       "7       1  ALPHABET CITY  07 RENTALS - WALKUP APARTMENTS                \n",
       "8       1  ALPHABET CITY  08 RENTALS - ELEVATOR APARTMENTS              \n",
       "\n",
       "  TAX CLASS AT PRESENT  BLOCK  LOT BUILDING CLASS AT PRESENT  \\\n",
       "1                    2    399   26                        C7   \n",
       "2                    2    399   39                        C7   \n",
       "5                    2    405   16                        C4   \n",
       "7                    2    407   18                        C7   \n",
       "8                    2    379   34                        D5   \n",
       "\n",
       "                  ADDRESS APARTMENT NUMBER  ZIP CODE  RESIDENTIAL UNITS  \\\n",
       "1   234 EAST 4TH   STREET                      10009                 28   \n",
       "2   197 EAST 3RD   STREET                      10009                 16   \n",
       "5  516 EAST 12TH   STREET                      10009                 20   \n",
       "7  520 EAST 14TH   STREET                      10009                 44   \n",
       "8            141 AVENUE D                      10009                 15   \n",
       "\n",
       "   COMMERCIAL UNITS  TOTAL UNITS  LAND SQUARE FEET  GROSS SQUARE FEET  \\\n",
       "1                 3           31            4616.0            18690.0   \n",
       "2                 1           17            2212.0             7803.0   \n",
       "5                 0           20            2581.0             9730.0   \n",
       "7                 2           46            5163.0            21007.0   \n",
       "8                 0           15            1534.0             9198.0   \n",
       "\n",
       "   YEAR BUILT TAX CLASS AT TIME OF SALE BUILDING CLASS AT TIME OF SALE  \n",
       "1        1900                         2                             C7  \n",
       "2        1900                         2                             C7  \n",
       "5        1900                         2                             C4  \n",
       "7        1900                         2                             C7  \n",
       "8        1920                         2                             D5  "
      ]
     },
     "execution_count": 13,
     "metadata": {},
     "output_type": "execute_result"
    }
   ],
   "source": [
    "# Print first 5 rows of test\n",
    "print(test.shape)\n",
    "test.head()"
   ]
  },
  {
   "cell_type": "markdown",
   "metadata": {},
   "source": [
    "# Checking for outliers"
   ]
  },
  {
   "cell_type": "markdown",
   "metadata": {},
   "source": [
    "Seeing as we have been dealt a huge dataset, outliers are to be expected. So, to handle this accordingly, first located the outliers by plotting them on a boxplot, and then filtered out appropriate variable ranges. Outliers can indicate errors in data collection but in the case of our data, errors in collecting data don't seem very probable.\n",
    "## Why is it important to remove outliers?\n",
    "Outliers can play a role in causing immense difficulties in the process of statistical analysis, as they represent a situation/scenario which is extremely unlikely to play out again. In the case of our dataset, outliers are entries in which massive amounts of total units are bought (example of this could be the sale of an apartment building, or a few floors thereof), which would have better fit our data if they were broken down entered as multiple sales of a smaller amount of units. "
   ]
  },
  {
   "cell_type": "markdown",
   "metadata": {},
   "source": [
    "# What are these visualizations below?\n",
    "These visualizations are to display all the different values in a specific column, and how far they are away from eachother compared to the aboslute minimum and maximum value. This is done using boxplot inside of the seaborn package. Here you just do seaborn.boxplot(x=dataframe[\"name of column you would like to display\"])"
   ]
  },
  {
   "cell_type": "code",
   "execution_count": 14,
   "metadata": {},
   "outputs": [
    {
     "data": {
      "text/plain": [
       "<AxesSubplot:xlabel='SALE PRICE'>"
      ]
     },
     "execution_count": 14,
     "metadata": {},
     "output_type": "execute_result"
    },
    {
     "data": {
      "image/png": "[encoded data removed]",
      "text/plain": [
       "<Figure size 432x288 with 1 Axes>"
      ]
     },
     "metadata": {
      "needs_background": "light"
     },
     "output_type": "display_data"
    }
   ],
   "source": [
    "sns.boxplot(x=data[\"SALE PRICE\"])"
   ]
  },
  {
   "cell_type": "code",
   "execution_count": 15,
   "metadata": {},
   "outputs": [
    {
     "data": {
      "text/plain": [
       "<AxesSubplot:xlabel='TOTAL UNITS'>"
      ]
     },
     "execution_count": 15,
     "metadata": {},
     "output_type": "execute_result"
    },
    {
     "data": {
      "image/png": "[encoded data removed]",
      "text/plain": [
       "<Figure size 432x288 with 1 Axes>"
      ]
     },
     "metadata": {
      "needs_background": "light"
     },
     "output_type": "display_data"
    }
   ],
   "source": [
    "sns.boxplot(x=data[\"TOTAL UNITS\"])"
   ]
  },
  {
   "cell_type": "markdown",
   "metadata": {},
   "source": [
    "# Removing the outliers"
   ]
  },
  {
   "cell_type": "code",
   "execution_count": 16,
   "metadata": {},
   "outputs": [],
   "source": [
    "# Removing rows that contains outliers in both TOTAL UNITS and SALE PRICE. \n",
    "data = data[(data['TOTAL UNITS'] > 0) & (data['TOTAL UNITS'] < 1500)] \n",
    "data = data[(data['SALE PRICE'] > 100000) & (data['SALE PRICE'] < 5000000)] "
   ]
  },
  {
   "cell_type": "markdown",
   "metadata": {},
   "source": [
    "# Visualizing that the outliers are removed from the dataset"
   ]
  },
  {
   "cell_type": "code",
   "execution_count": 17,
   "metadata": {},
   "outputs": [
    {
     "data": {
      "text/plain": [
       "<AxesSubplot:xlabel='SALE PRICE'>"
      ]
     },
     "execution_count": 17,
     "metadata": {},
     "output_type": "execute_result"
    },
    {
     "data": {
      "image/png": "[encoded data removed]",
      "text/plain": [
       "<Figure size 432x288 with 1 Axes>"
      ]
     },
     "metadata": {
      "needs_background": "light"
     },
     "output_type": "display_data"
    }
   ],
   "source": [
    "sns.boxplot(x=data[\"SALE PRICE\"])"
   ]
  },
  {
   "cell_type": "code",
   "execution_count": 18,
   "metadata": {},
   "outputs": [
    {
     "data": {
      "text/plain": [
       "<AxesSubplot:xlabel='TOTAL UNITS'>"
      ]
     },
     "execution_count": 18,
     "metadata": {},
     "output_type": "execute_result"
    },
    {
     "data": {
      "image/png": "[encoded data removed]",
      "text/plain": [
       "<Figure size 432x288 with 1 Axes>"
      ]
     },
     "metadata": {
      "needs_background": "light"
     },
     "output_type": "display_data"
    }
   ],
   "source": [
    "sns.boxplot(x=data[\"TOTAL UNITS\"])"
   ]
  },
  {
   "cell_type": "markdown",
   "metadata": {},
   "source": [
    "# Below is pre-proccessing of dataset (Regression models)"
   ]
  },
  {
   "cell_type": "markdown",
   "metadata": {},
   "source": [
    "---------------------------------------------------------------------------------------------\n",
    "# Why is apartment number and address getting dropped?"
   ]
  },
  {
   "cell_type": "markdown",
   "metadata": {},
   "source": [
    "The apartment number column is irrelevant, and removed due to the column being practically lacking half of its elements. Thus we simply do not have enough values to create a useful mean value to replace the empty slots with, as well as if we were to just leave it, the consequence would be alot of zero values which would greatly affect the price. The values are also lacking name consistency which also makes it harder to pre-process due to them being very different in value.\n",
    "\n",
    "We are dropping address due to the values lacking name consistency making it very hard to pre-process due to there being to many combinations of address names to make sensable pre-proccessing of it."
   ]
  },
  {
   "cell_type": "code",
   "execution_count": 19,
   "metadata": {},
   "outputs": [],
   "source": [
    "# deleting some irrelevant columns!\n",
    "# Explanation above.\n",
    "\n",
    "del data['ADDRESS']\n",
    "del data['APARTMENT NUMBER']"
   ]
  },
  {
   "cell_type": "code",
   "execution_count": 20,
   "metadata": {},
   "outputs": [
    {
     "name": "stdout",
     "output_type": "stream",
     "text": [
      "<class 'pandas.core.frame.DataFrame'>\n",
      "Int64Index: 39003 entries, 3 to 84545\n",
      "Data columns (total 17 columns):\n",
      " #   Column                          Non-Null Count  Dtype   \n",
      "---  ------                          --------------  -----   \n",
      " 0   BOROUGH                         39003 non-null  category\n",
      " 1   NEIGHBORHOOD                    39003 non-null  object  \n",
      " 2   BUILDING CLASS CATEGORY         39003 non-null  object  \n",
      " 3   TAX CLASS AT PRESENT            39003 non-null  category\n",
      " 4   BLOCK                           39003 non-null  int64   \n",
      " 5   LOT                             39003 non-null  int64   \n",
      " 6   BUILDING CLASS AT PRESENT       39003 non-null  object  \n",
      " 7   ZIP CODE                        39003 non-null  int64   \n",
      " 8   RESIDENTIAL UNITS               39003 non-null  int64   \n",
      " 9   COMMERCIAL UNITS                39003 non-null  int64   \n",
      " 10  TOTAL UNITS                     39003 non-null  int64   \n",
      " 11  LAND SQUARE FEET                39003 non-null  float64 \n",
      " 12  GROSS SQUARE FEET               39003 non-null  float64 \n",
      " 13  YEAR BUILT                      39003 non-null  int64   \n",
      " 14  TAX CLASS AT TIME OF SALE       39003 non-null  category\n",
      " 15  BUILDING CLASS AT TIME OF SALE  39003 non-null  object  \n",
      " 16  SALE PRICE                      39003 non-null  float64 \n",
      "dtypes: category(3), float64(3), int64(7), object(4)\n",
      "memory usage: 4.6+ MB\n"
     ]
    }
   ],
   "source": [
    "data.info()"
   ]
  },
  {
   "cell_type": "code",
   "execution_count": 21,
   "metadata": {},
   "outputs": [],
   "source": [
    "numeric_data=data.select_dtypes(include=[np.number])"
   ]
  },
  {
   "cell_type": "markdown",
   "metadata": {},
   "source": [
    "# Checking for skewness\n",
    "We check for skewness because we have in our dataset a large number of moderately priced houses, and some highly priced houses. this can be an indication that the data for specific values are skewed to the right side, which means you are predicting a much larger amount of moderately priced houses, and might cause the model to have a harder time predicitng the price for the more higher priced houses. \n",
    "\n",
    "One way to test this is by doing what is called Shapiro-Wilks test. the null hypotheses for this specific test is that the data is a sample from a normal distribution, so the p-value less than 0.05 indicates significant skewness. "
   ]
  },
  {
   "cell_type": "code",
   "execution_count": 22,
   "metadata": {},
   "outputs": [
    {
     "data": {
      "text/plain": [
       "ShapiroResult(statistic=0.7484854459762573, pvalue=0.0)"
      ]
     },
     "execution_count": 22,
     "metadata": {},
     "output_type": "execute_result"
    }
   ],
   "source": [
    "stats.shapiro(data[\"SALE PRICE\"])"
   ]
  },
  {
   "cell_type": "markdown",
   "metadata": {},
   "source": [
    "Another way of testing for skewness, is using pandas skew() method. it calculates the Fisher-Pearson standardized moment coefficient for all collumns in a dataframe. "
   ]
  },
  {
   "cell_type": "code",
   "execution_count": 23,
   "metadata": {},
   "outputs": [
    {
     "data": {
      "text/html": [
       "<div>\n",
       "<style scoped>\n",
       "    .dataframe tbody tr th:only-of-type {\n",
       "        vertical-align: middle;\n",
       "    }\n",
       "\n",
       "    .dataframe tbody tr th {\n",
       "        vertical-align: top;\n",
       "    }\n",
       "\n",
       "    .dataframe thead th {\n",
       "        text-align: right;\n",
       "    }\n",
       "</style>\n",
       "<table border=\"1\" class=\"dataframe\">\n",
       "  <thead>\n",
       "    <tr style=\"text-align: right;\">\n",
       "      <th></th>\n",
       "      <th>Skew</th>\n",
       "    </tr>\n",
       "  </thead>\n",
       "  <tbody>\n",
       "    <tr>\n",
       "      <th>LAND SQUARE FEET</th>\n",
       "      <td>97.176872</td>\n",
       "    </tr>\n",
       "    <tr>\n",
       "      <th>COMMERCIAL UNITS</th>\n",
       "      <td>95.309583</td>\n",
       "    </tr>\n",
       "    <tr>\n",
       "      <th>RESIDENTIAL UNITS</th>\n",
       "      <td>54.045558</td>\n",
       "    </tr>\n",
       "    <tr>\n",
       "      <th>GROSS SQUARE FEET</th>\n",
       "      <td>53.045021</td>\n",
       "    </tr>\n",
       "    <tr>\n",
       "      <th>TOTAL UNITS</th>\n",
       "      <td>51.674276</td>\n",
       "    </tr>\n",
       "    <tr>\n",
       "      <th>LOT</th>\n",
       "      <td>2.852163</td>\n",
       "    </tr>\n",
       "    <tr>\n",
       "      <th>SALE PRICE</th>\n",
       "      <td>2.308921</td>\n",
       "    </tr>\n",
       "    <tr>\n",
       "      <th>BLOCK</th>\n",
       "      <td>0.921536</td>\n",
       "    </tr>\n",
       "    <tr>\n",
       "      <th>YEAR BUILT</th>\n",
       "      <td>-3.569420</td>\n",
       "    </tr>\n",
       "    <tr>\n",
       "      <th>ZIP CODE</th>\n",
       "      <td>-5.006578</td>\n",
       "    </tr>\n",
       "  </tbody>\n",
       "</table>\n",
       "</div>"
      ],
      "text/plain": [
       "                        Skew\n",
       "LAND SQUARE FEET   97.176872\n",
       "COMMERCIAL UNITS   95.309583\n",
       "RESIDENTIAL UNITS  54.045558\n",
       "GROSS SQUARE FEET  53.045021\n",
       "TOTAL UNITS        51.674276\n",
       "LOT                 2.852163\n",
       "SALE PRICE          2.308921\n",
       "BLOCK               0.921536\n",
       "YEAR BUILT         -3.569420\n",
       "ZIP CODE           -5.006578"
      ]
     },
     "execution_count": 23,
     "metadata": {},
     "output_type": "execute_result"
    }
   ],
   "source": [
    "from scipy.stats import skew\n",
    "num_feats = data.dtypes[data.dtypes!=\"object\"].index\n",
    "skew_feats = data[num_feats].skew().sort_values(ascending=False)\n",
    "skewness=pd.DataFrame({\"Skew\":skew_feats})\n",
    "skewness"
   ]
  },
  {
   "cell_type": "markdown",
   "metadata": {},
   "source": [
    "# Transforming skewed data using log(x + 1)\n",
    "There is a way we can address skewed variables, and reduce the skewness of our current dataset. That way is by transforming them. This can be done by either including square root (sqrt(x)), logarithmic (log(x)) and reciprocal (1/x). For our data we have chosen to go the logarithmic route. "
   ]
  },
  {
   "cell_type": "code",
   "execution_count": 24,
   "metadata": {},
   "outputs": [],
   "source": [
    "#transform the numeric features using log(x + 1)\n",
    "# skew is the degree of distortion from a normal distribution.\n",
    "# THe reason we chose to skew the data is so the models can predict the more expensive houses more accurately\n",
    "\n",
    "from scipy.stats import skew\n",
    "skewed = data[numeric_data.columns].apply(lambda x: skew(x.dropna().astype(float)))\n",
    "skewed = skewed[skewed > 0.75]\n",
    "skewed = skewed.index\n",
    "data[skewed] = np.log1p(data[skewed])"
   ]
  },
  {
   "cell_type": "code",
   "execution_count": 25,
   "metadata": {},
   "outputs": [],
   "source": [
    "data[\"SALE PRICE\"] = data[\"SALE PRICE\"]**(.5)"
   ]
  },
  {
   "cell_type": "code",
   "execution_count": 26,
   "metadata": {},
   "outputs": [
    {
     "data": {
      "text/plain": [
       "ShapiroResult(statistic=0.9918535947799683, pvalue=8.906512909402105e-41)"
      ]
     },
     "execution_count": 26,
     "metadata": {},
     "output_type": "execute_result"
    }
   ],
   "source": [
    "stats.shapiro(data[\"SALE PRICE\"])"
   ]
  },
  {
   "cell_type": "markdown",
   "metadata": {},
   "source": [
    "# Checking data for gaussian distribution"
   ]
  },
  {
   "cell_type": "code",
   "execution_count": 27,
   "metadata": {},
   "outputs": [
    {
     "data": {
      "text/plain": [
       "Text(0.5, 1.0, 'Normality Check')"
      ]
     },
     "execution_count": 27,
     "metadata": {},
     "output_type": "execute_result"
    },
    {
     "data": {
      "image/png": "[encoded data removed]",
      "text/plain": [
       "<Figure size 432x288 with 1 Axes>"
      ]
     },
     "metadata": {
      "needs_background": "light"
     },
     "output_type": "display_data"
    }
   ],
   "source": [
    "plt.hist(data['SALE PRICE'])\n",
    "plt.title(\"Normality Check\")"
   ]
  },
  {
   "cell_type": "code",
   "execution_count": 28,
   "metadata": {},
   "outputs": [],
   "source": [
    "std = np.std(data['SALE PRICE'], ddof=1)\n",
    "mean = np.mean(data['SALE PRICE'])"
   ]
  },
  {
   "cell_type": "markdown",
   "metadata": {},
   "source": [
    "# Why standardization and not normalization of data?\n",
    "Standarization a dataset involves rescaling the distribution of values so that the mean of observed is 0 and the standard deviation is 1. \n",
    "\n",
    "Standization can be very useful. and in some algorithms, it is even required. but standardization does assume that your observations fit a gaussian distribution. The data can still standardized even if these expectations are not met, but the results may not be as reliable. \n",
    "\n",
    "Compared to the figure you see under the title \"Checking data for gaussian distribution\" above this section, you can see that bell curve that signifies that the data fits a gaussian distribution. Therefor the standard scaler fits our project well as it standardizes our data instead of normalizing it. \n",
    "\n",
    "Had we not removed our outliers, we would have gone with the RobustScaler which works well with outliers. \n"
   ]
  },
  {
   "cell_type": "code",
   "execution_count": 29,
   "metadata": {},
   "outputs": [],
   "source": [
    "\n",
    "# Scaling data the numeric data\n",
    "\n",
    "scaler = StandardScaler()\n",
    "scaler.fit(data[numeric_data.columns])\n",
    "scaled = scaler.transform(data[numeric_data.columns])\n",
    "\n",
    "for i, col in enumerate(numeric_data.columns):\n",
    "       data[col] = scaled[:,i]"
   ]
  },
  {
   "cell_type": "code",
   "execution_count": 30,
   "metadata": {},
   "outputs": [],
   "source": [
    "#Dropping few columns that is not needed\n",
    "del data['BUILDING CLASS AT PRESENT']\n",
    "del data['BUILDING CLASS AT TIME OF SALE']\n",
    "del data['NEIGHBORHOOD']"
   ]
  },
  {
   "cell_type": "code",
   "execution_count": 31,
   "metadata": {},
   "outputs": [],
   "source": [
    "#Select the variables to be one-hot encoded\n",
    "# We one hot encode this data so that the models can predict more accurately given the data they have. \n",
    "one_hot_features = ['BOROUGH', 'BUILDING CLASS CATEGORY','TAX CLASS AT PRESENT','TAX CLASS AT TIME OF SALE']"
   ]
  },
  {
   "cell_type": "markdown",
   "metadata": {},
   "source": [
    "# Why do we one-hot encode the different categorical columns? \n",
    "A one-hot encoding allows for more expressive categorical data representation. Many machine learning algorithms are unable to work directly with categorical data. The categories must be numerically converted. This is required for categorical input and output variables."
   ]
  },
  {
   "cell_type": "markdown",
   "metadata": {},
   "source": [
    "# Under here we are one-hot encoding categorical columns\n",
    "\n",
    "One-hot encoding is practically a way of representing categorical variables binary vectors, this also requires the categorical data has been mapped in to integer values, or else you will get an error message"
   ]
  },
  {
   "cell_type": "code",
   "execution_count": 32,
   "metadata": {},
   "outputs": [
    {
     "name": "stdout",
     "output_type": "stream",
     "text": [
      "<class 'pandas.core.frame.DataFrame'>\n",
      "Int64Index: 39003 entries, 3 to 84545\n",
      "Data columns (total 58 columns):\n",
      " #   Column                                                                Non-Null Count  Dtype\n",
      "---  ------                                                                --------------  -----\n",
      " 0   BOROUGH_1                                                             39003 non-null  uint8\n",
      " 1   BOROUGH_2                                                             39003 non-null  uint8\n",
      " 2   BOROUGH_3                                                             39003 non-null  uint8\n",
      " 3   BOROUGH_4                                                             39003 non-null  uint8\n",
      " 4   BOROUGH_5                                                             39003 non-null  uint8\n",
      " 5   BUILDING CLASS CATEGORY_01 ONE FAMILY DWELLINGS                       39003 non-null  uint8\n",
      " 6   BUILDING CLASS CATEGORY_02 TWO FAMILY DWELLINGS                       39003 non-null  uint8\n",
      " 7   BUILDING CLASS CATEGORY_03 THREE FAMILY DWELLINGS                     39003 non-null  uint8\n",
      " 8   BUILDING CLASS CATEGORY_04 TAX CLASS 1 CONDOS                         39003 non-null  uint8\n",
      " 9   BUILDING CLASS CATEGORY_05 TAX CLASS 1 VACANT LAND                    39003 non-null  uint8\n",
      " 10  BUILDING CLASS CATEGORY_06 TAX CLASS 1 - OTHER                        39003 non-null  uint8\n",
      " 11  BUILDING CLASS CATEGORY_07 RENTALS - WALKUP APARTMENTS                39003 non-null  uint8\n",
      " 12  BUILDING CLASS CATEGORY_08 RENTALS - ELEVATOR APARTMENTS              39003 non-null  uint8\n",
      " 13  BUILDING CLASS CATEGORY_09 COOPS - WALKUP APARTMENTS                  39003 non-null  uint8\n",
      " 14  BUILDING CLASS CATEGORY_10 COOPS - ELEVATOR APARTMENTS                39003 non-null  uint8\n",
      " 15  BUILDING CLASS CATEGORY_11A CONDO-RENTALS                             39003 non-null  uint8\n",
      " 16  BUILDING CLASS CATEGORY_12 CONDOS - WALKUP APARTMENTS                 39003 non-null  uint8\n",
      " 17  BUILDING CLASS CATEGORY_13 CONDOS - ELEVATOR APARTMENTS               39003 non-null  uint8\n",
      " 18  BUILDING CLASS CATEGORY_14 RENTALS - 4-10 UNIT                        39003 non-null  uint8\n",
      " 19  BUILDING CLASS CATEGORY_15 CONDOS - 2-10 UNIT RESIDENTIAL             39003 non-null  uint8\n",
      " 20  BUILDING CLASS CATEGORY_16 CONDOS - 2-10 UNIT WITH COMMERCIAL UNIT    39003 non-null  uint8\n",
      " 21  BUILDING CLASS CATEGORY_21 OFFICE BUILDINGS                           39003 non-null  uint8\n",
      " 22  BUILDING CLASS CATEGORY_22 STORE BUILDINGS                            39003 non-null  uint8\n",
      " 23  BUILDING CLASS CATEGORY_23 LOFT BUILDINGS                             39003 non-null  uint8\n",
      " 24  BUILDING CLASS CATEGORY_26 OTHER HOTELS                               39003 non-null  uint8\n",
      " 25  BUILDING CLASS CATEGORY_27 FACTORIES                                  39003 non-null  uint8\n",
      " 26  BUILDING CLASS CATEGORY_28 COMMERCIAL CONDOS                          39003 non-null  uint8\n",
      " 27  BUILDING CLASS CATEGORY_29 COMMERCIAL GARAGES                         39003 non-null  uint8\n",
      " 28  BUILDING CLASS CATEGORY_30 WAREHOUSES                                 39003 non-null  uint8\n",
      " 29  BUILDING CLASS CATEGORY_31 COMMERCIAL VACANT LAND                     39003 non-null  uint8\n",
      " 30  BUILDING CLASS CATEGORY_32 HOSPITAL AND HEALTH FACILITIES             39003 non-null  uint8\n",
      " 31  BUILDING CLASS CATEGORY_33 EDUCATIONAL FACILITIES                     39003 non-null  uint8\n",
      " 32  BUILDING CLASS CATEGORY_35 INDOOR PUBLIC AND CULTURAL FACILITIES      39003 non-null  uint8\n",
      " 33  BUILDING CLASS CATEGORY_37 RELIGIOUS FACILITIES                       39003 non-null  uint8\n",
      " 34  BUILDING CLASS CATEGORY_38 ASYLUMS AND HOMES                          39003 non-null  uint8\n",
      " 35  BUILDING CLASS CATEGORY_41 TAX CLASS 4 - OTHER                        39003 non-null  uint8\n",
      " 36  BUILDING CLASS CATEGORY_42 CONDO CULTURAL/MEDICAL/EDUCATIONAL/ETC     39003 non-null  uint8\n",
      " 37  BUILDING CLASS CATEGORY_43 CONDO OFFICE BUILDINGS                     39003 non-null  uint8\n",
      " 38  BUILDING CLASS CATEGORY_44 CONDO PARKING                              39003 non-null  uint8\n",
      " 39  BUILDING CLASS CATEGORY_45 CONDO HOTELS                               39003 non-null  uint8\n",
      " 40  BUILDING CLASS CATEGORY_46 CONDO STORE BUILDINGS                      39003 non-null  uint8\n",
      " 41  BUILDING CLASS CATEGORY_47 CONDO NON-BUSINESS STORAGE                 39003 non-null  uint8\n",
      " 42  BUILDING CLASS CATEGORY_48 CONDO TERRACES/GARDENS/CABANAS             39003 non-null  uint8\n",
      " 43  TAX CLASS AT PRESENT_                                                 39003 non-null  uint8\n",
      " 44  TAX CLASS AT PRESENT_1                                                39003 non-null  uint8\n",
      " 45  TAX CLASS AT PRESENT_1A                                               39003 non-null  uint8\n",
      " 46  TAX CLASS AT PRESENT_1B                                               39003 non-null  uint8\n",
      " 47  TAX CLASS AT PRESENT_1C                                               39003 non-null  uint8\n",
      " 48  TAX CLASS AT PRESENT_2                                                39003 non-null  uint8\n",
      " 49  TAX CLASS AT PRESENT_2A                                               39003 non-null  uint8\n",
      " 50  TAX CLASS AT PRESENT_2B                                               39003 non-null  uint8\n",
      " 51  TAX CLASS AT PRESENT_2C                                               39003 non-null  uint8\n",
      " 52  TAX CLASS AT PRESENT_3                                                39003 non-null  uint8\n",
      " 53  TAX CLASS AT PRESENT_4                                                39003 non-null  uint8\n",
      " 54  TAX CLASS AT TIME OF SALE_1                                           39003 non-null  uint8\n",
      " 55  TAX CLASS AT TIME OF SALE_2                                           39003 non-null  uint8\n",
      " 56  TAX CLASS AT TIME OF SALE_3                                           39003 non-null  uint8\n",
      " 57  TAX CLASS AT TIME OF SALE_4                                           39003 non-null  uint8\n",
      "dtypes: uint8(58)\n",
      "memory usage: 2.5 MB\n"
     ]
    }
   ],
   "source": [
    "one_hot_encoded = pd.get_dummies(data[one_hot_features])\n",
    "one_hot_encoded.info(verbose=True, memory_usage=True, null_counts=True)"
   ]
  },
  {
   "cell_type": "code",
   "execution_count": 33,
   "metadata": {},
   "outputs": [],
   "source": [
    "# Replacing categorical columns with dummies\n",
    "fdf = data.drop(one_hot_features,axis=1)\n",
    "fdf = pd.concat([fdf, one_hot_encoded] ,axis=1)"
   ]
  },
  {
   "cell_type": "code",
   "execution_count": 34,
   "metadata": {},
   "outputs": [
    {
     "data": {
      "text/plain": [
       "((39003, 67), (39003,))"
      ]
     },
     "execution_count": 34,
     "metadata": {},
     "output_type": "execute_result"
    }
   ],
   "source": [
    "# Dividing dataset in to Data and Target values.\n",
    "\n",
    "Y_fdf = fdf['SALE PRICE']\n",
    "X_fdf = fdf.drop('SALE PRICE', axis=1)\n",
    "\n",
    "X_fdf.shape , Y_fdf.shape"
   ]
  },
  {
   "cell_type": "code",
   "execution_count": 35,
   "metadata": {},
   "outputs": [],
   "source": [
    "# Splitting the dataset in to a test set and a training set\n",
    "\n",
    "X_train ,X_test, Y_train , Y_test = train_test_split(X_fdf , Y_fdf , test_size = 0.3 , random_state =34)"
   ]
  },
  {
   "cell_type": "markdown",
   "metadata": {},
   "source": [
    "# Reason for using RMSE instead of just R2. \n",
    "\n",
    "R-squared is conventiently scaled between 0 and 1, whereas RMSE is not scaled to any particular values. This can be good or bad; obviously R-squared can be more easily interpreted, but with RMSE we explcitly know how much our predictions deviate, on average, from the actual values in the dataset. So in a way, RMSE tells you more. "
   ]
  },
  {
   "cell_type": "code",
   "execution_count": 36,
   "metadata": {},
   "outputs": [],
   "source": [
    "# setting up a RMSE\n",
    "# Lower Score = Better Score. Lower > Higher.\n",
    "def rmse(y_test,y_pred):\n",
    "      return np.sqrt(mean_squared_error(y_test,y_pred))"
   ]
  },
  {
   "cell_type": "markdown",
   "metadata": {},
   "source": [
    "# Here is the Regression models we have chosen for our project. \n",
    "- Support Vector Machine (SVM)\n",
    "- K Neighbor Regressor\n",
    "- Random Forest Regressor\n",
    "- Decision Tree Regressor\n",
    "- Multi Layer Perceptron Regressor (MLPR)(Neural Network)"
   ]
  },
  {
   "cell_type": "markdown",
   "metadata": {},
   "source": [
    "# Support Vector Machine\n",
    "The Support Vector Machine (or SVM) is a linear classifier. The SVM will take in data points, and compute the best \"Hyperplane\", a line which seperates data into their respective classes. This hyperplane is computed based on the margin between the line and closest data point of that class. It seeks to maximize this margin, and be as far away from the datapoints of each class as possible.\n",
    "\n",
    "We use the Support Vector Regressor from the svm package, which uses generally the same principles, with only a few differences. As output is a real number, prediction becomes difficult. As a result of these difficulties, a margin of tolerance is set."
   ]
  },
  {
   "cell_type": "code",
   "execution_count": 37,
   "metadata": {},
   "outputs": [
    {
     "data": {
      "text/plain": [
       "SVR(C=1)"
      ]
     },
     "execution_count": 37,
     "metadata": {},
     "output_type": "execute_result"
    }
   ],
   "source": [
    "from sklearn import svm\n",
    "supportvectormachine = svm.SVR(C=1)\n",
    "supportvectormachine.fit(X_train, Y_train)"
   ]
  },
  {
   "cell_type": "code",
   "execution_count": 39,
   "metadata": {},
   "outputs": [],
   "source": [
    "from sklearn.model_selection import GridSearchCV\n",
    "from sklearn.svm import SVR\n",
    "gsc = GridSearchCV(\n",
    "        estimator=SVR(kernel='rbf'),\n",
    "        param_grid={\n",
    "            'C': [0.1, 1, 100, 1000],\n",
    "            'epsilon': [0.0001, 0.0005, 0.001, 0.005, 0.01, 0.05, 0.1, 0.5, 1, 5, 10],\n",
    "            'gamma': [0.0001, 0.001, 0.005, 0.1, 1, 3, 5]\n",
    "        },\n",
    "        cv=5, scoring='neg_mean_squared_error', verbose=2, n_jobs=-1)"
   ]
  },
  {
   "cell_type": "code",
   "execution_count": null,
   "metadata": {},
   "outputs": [
    {
     "name": "stdout",
     "output_type": "stream",
     "text": [
      "Fitting 5 folds for each of 308 candidates, totalling 1540 fits\n"
     ]
    }
   ],
   "source": [
    "grid_result = gsc.fit(X_train, Y_train)\n",
    "best_params = grid_result.best_params_\n",
    "best_svr = SVR(kernel='rbf', C=best_params[\"C\"], epsilon=best_params[\"epsilon\"], gamma=best_params[\"gamma\"],\n",
    "                   coef0=0.1, shrinking=True,\n",
    "                   tol=0.001, cache_size=200, verbose=2, max_iter=-1)\n",
    "#Verbose = 2 *****"
   ]
  },
  {
   "cell_type": "code",
   "execution_count": 61,
   "metadata": {},
   "outputs": [
    {
     "name": "stdout",
     "output_type": "stream",
     "text": [
      "best params {'C': 1, 'epsilon': 0.1, 'gamma': 1}\n"
     ]
    }
   ],
   "source": [
    "print(\"best params\", grid_result.best_params_)"
   ]
  },
  {
   "cell_type": "code",
   "execution_count": 49,
   "metadata": {},
   "outputs": [
    {
     "data": {
      "text/plain": [
       "array([ 1.02171121, -0.44915881, -2.49490954, ...,  0.43039892,\n",
       "       -1.01373686, -0.12033419])"
      ]
     },
     "execution_count": 49,
     "metadata": {},
     "output_type": "execute_result"
    }
   ],
   "source": [
    "predictions = supportvectormachine.predict(X_test)\n",
    "# predictions = scaler.inverse_transform(predictions)\n",
    "predictions"
   ]
  },
  {
   "cell_type": "code",
   "execution_count": 50,
   "metadata": {},
   "outputs": [
    {
     "data": {
      "text/plain": [
       "array([[-0.66559413,  1.20167382, -1.40917184, ...,  1.        ,\n",
       "         0.        ,  0.        ],\n",
       "       [ 0.45698758,  1.37057494,  0.73010031, ...,  1.        ,\n",
       "         0.        ,  0.        ],\n",
       "       [ 1.13351184, -0.03307239,  0.86028892, ...,  0.        ,\n",
       "         0.        ,  0.        ],\n",
       "       ...,\n",
       "       [ 0.26910378, -0.44199277,  0.73170757, ...,  0.        ,\n",
       "         0.        ,  0.        ],\n",
       "       [-0.00748847, -1.28209168, -0.95913713, ...,  0.        ,\n",
       "         0.        ,  0.        ],\n",
       "       [ 0.22937614, -1.28209168,  0.50026115, ...,  0.        ,\n",
       "         0.        ,  0.        ]])"
      ]
     },
     "execution_count": 50,
     "metadata": {},
     "output_type": "execute_result"
    }
   ],
   "source": [
    "supportvectormachine.support_vectors_"
   ]
  },
  {
   "cell_type": "code",
   "execution_count": 51,
   "metadata": {},
   "outputs": [
    {
     "data": {
      "text/plain": [
       "array([    1,     2,     4, ..., 27299, 27300, 27301])"
      ]
     },
     "execution_count": 51,
     "metadata": {},
     "output_type": "execute_result"
    }
   ],
   "source": [
    "supportvectormachine.support_"
   ]
  },
  {
   "cell_type": "code",
   "execution_count": 52,
   "metadata": {},
   "outputs": [
    {
     "name": "stdout",
     "output_type": "stream",
     "text": [
      "0.5617892680452916\n",
      "RMSE Score: 0.6574965275058103\n"
     ]
    }
   ],
   "source": [
    "print(supportvectormachine.score(X_test, Y_test))\n",
    "print(f\"RMSE Score: {rmse(Y_test, predictions)}\")\n"
   ]
  },
  {
   "cell_type": "markdown",
   "metadata": {},
   "source": [
    "# K Neighbors Regressor\n",
    "The score on this model was fairly low as KNearest models does not work that well on big datasets, we decided to include it anyways as it is just as important to analyze a method in suboptimal conditions as it is to study it in optimal conditions.\n",
    "\n",
    "K Nearest Neighbors Regression is a non-parametric method that seeks to estimate the association between independent variables and continuous outcomes by averaging observations in their respective neighborhoods. Therefore, the analyst must determine the neighborhood size, K. We found that a K value of 8 best suited our intentions."
   ]
  },
  {
   "cell_type": "code",
   "execution_count": 42,
   "metadata": {},
   "outputs": [
    {
     "data": {
      "text/plain": [
       "KNeighborsRegressor(n_neighbors=8)"
      ]
     },
     "execution_count": 42,
     "metadata": {},
     "output_type": "execute_result"
    }
   ],
   "source": [
    "from sklearn.neighbors import KNeighborsRegressor\n",
    "kneighborsregressor = KNeighborsRegressor(n_neighbors=8)\n",
    "kneighborsregressor.fit(X_train, Y_train)"
   ]
  },
  {
   "cell_type": "code",
   "execution_count": 43,
   "metadata": {},
   "outputs": [
    {
     "data": {
      "text/plain": [
       "array([ 1.01862627, -0.47499111, -2.45790048, ...,  0.3838277 ,\n",
       "       -1.16435619, -0.48851349])"
      ]
     },
     "execution_count": 43,
     "metadata": {},
     "output_type": "execute_result"
    }
   ],
   "source": [
    "predictions = kneighborsregressor.predict(X_test)\n",
    "predictions"
   ]
  },
  {
   "cell_type": "code",
   "execution_count": 44,
   "metadata": {},
   "outputs": [
    {
     "data": {
      "text/plain": [
       "array([[1., 0., 0., ..., 0., 0., 0.],\n",
       "       [0., 1., 0., ..., 0., 0., 0.],\n",
       "       [0., 0., 1., ..., 0., 0., 0.],\n",
       "       ...,\n",
       "       [0., 0., 0., ..., 1., 0., 0.],\n",
       "       [0., 0., 0., ..., 0., 1., 0.],\n",
       "       [0., 0., 0., ..., 0., 0., 1.]])"
      ]
     },
     "execution_count": 44,
     "metadata": {},
     "output_type": "execute_result"
    }
   ],
   "source": [
    "kneighborsregressor.kneighbors_graph(X_train).toarray()"
   ]
  },
  {
   "cell_type": "code",
   "execution_count": 45,
   "metadata": {},
   "outputs": [
    {
     "name": "stdout",
     "output_type": "stream",
     "text": [
      "R2 Score: 0.6296250473768397\n",
      "RMSE Score: 0.604467232565021\n"
     ]
    }
   ],
   "source": [
    "print(f\"R2 Score: {kneighborsregressor.score(X_test, Y_test)}\")\n",
    "print(f\"RMSE Score: {rmse(Y_test, predictions)}\")"
   ]
  },
  {
   "cell_type": "markdown",
   "metadata": {},
   "source": [
    "# Random Forest Regressor\n",
    "Loosely; a random forest regressor constructs several decision trees, then outputs the mean of the classes as the prediction of all the trees. Although random forest regressors are powerful and accurate, and work well in a wide range of cases, there is no interpretability, and we must be vigilant towards overfitting."
   ]
  },
  {
   "cell_type": "code",
   "execution_count": 46,
   "metadata": {},
   "outputs": [
    {
     "name": "stdout",
     "output_type": "stream",
     "text": [
      "RMSE Score: 0.6550874339171374\n",
      "R2 Score: 0.5649946282999401\n"
     ]
    }
   ],
   "source": [
    "rf_regr = RandomForestRegressor(criterion=\"mse\", n_estimators=1000, max_features=\"sqrt\", \n",
    "                               n_jobs=-1, random_state=1234)\n",
    "rf_regr.fit(X_train, Y_train)\n",
    "Y_pred_rf = rf_regr.predict(X_test)\n",
    "print(f\"RMSE Score: {rmse(Y_test,Y_pred_rf)}\")\n",
    "print(f\"R2 Score: {rf_regr.score(X_test, Y_test)}\")"
   ]
  },
  {
   "cell_type": "markdown",
   "metadata": {},
   "source": [
    "# Decision tree regressor\n",
    "A good way to visualize a decision tree, is to visualize it as a serious of questions that is asked about the input data, each question eliminating possible values until the model is confident enough to reach a conclusion. It is important to note that all questions asked to the input data are formed in True/False manner.\n",
    "First, the model is trained with relevant historical data. The model then calculates appropriate questions, and question order, based on an analysis it does on the relationships between the data and the target variable (These calculations can be done by hand with a metric like gini impurity). "
   ]
  },
  {
   "cell_type": "code",
   "execution_count": 50,
   "metadata": {},
   "outputs": [
    {
     "name": "stdout",
     "output_type": "stream",
     "text": [
      "RMSE Score: 0.7470789465530165\n",
      "R2 Score: 0.4342441180333222\n"
     ]
    }
   ],
   "source": [
    "from sklearn.tree import DecisionTreeRegressor\n",
    "\n",
    "dtr = DecisionTreeRegressor(criterion=\"friedman_mse\")\n",
    "dtr.fit(X_train, Y_train)\n",
    "pred = dtr.predict(X_test)\n",
    "print(f\"RMSE Score: {rmse(Y_test, pred)}\")\n",
    "print(f\"R2 Score: {dtr.score(X_test, Y_test)}\")\n"
   ]
  },
  {
   "cell_type": "markdown",
   "metadata": {},
   "source": [
    "# Random Forest vs Decision Tree\n",
    "In our different tree models, which was decision tree regressor and a random forest regressor. in our models, our random forest regressor clearly beat our decision tree regressor by quite a mark. here are the results\n",
    "\n",
    "Decision Tree R2: 0.42\n",
    "Decision Tree RMSE: 0.75\n",
    "\n",
    "Random Forest R2: 0.68\n",
    "Random Forest RMSE: 0.55\n",
    "\n",
    "When it comes to comparing these models, random forest leverages the power of multiple decision trees, instead of relying on feaure importance given by a single decision tree. Random forest also chooses features randomly during the training process, which is a special characterstic of random forrest over bagging tree's, which is a variance of a decision tree where the goal is to reduce the variance of a decision tree.\n",
    "\n",
    "Since random forest uses more tree's, it will take longer to train the data, as it has to train each individual tree, which will increase the time taken by AmountOfTrees(x), while decision trees focuses more on speed due to only having to train one decision tree.  \n",
    "\n",
    "We can also see that the decision tree deviate further away from the correct answer on avarage, as shown in the RMSE score on both parts."
   ]
  },
  {
   "cell_type": "markdown",
   "metadata": {},
   "source": [
    "# Setting up a Multi Layer Perceptron Regressor (Without Hyper Parameter Tuning)\n",
    "A Multi Layer Perceptron, is like a perceptron in the sense that it has an input layer and output layer which are connected, but an MLP can have many hidden layers in between the input and output layer. In forward passing, the input flows from the input layer through all the hidden layers and then to the output layer, where a decision is made and measured against the ground truth labels. Essentially, the multilayer perceptron is just a series of perceptron algorithms, a neural network. Each layer (perceptron) will multiply with weights and add bias, to come to a conclusion.\n",
    "\n",
    "# Solver Paramter Explanation (adam)\n",
    "We chose the optimization algorithm adam. the reason we chose it, is because it has little memory requirements, it is computationally efficient, as well as it is well suited for problems that are large in terms of data and/or paramters. and in our dataset, we have a quite large dataset to work with, therefor adam works well in our case. "
   ]
  },
  {
   "cell_type": "code",
   "execution_count": 218,
   "metadata": {},
   "outputs": [
    {
     "name": "stdout",
     "output_type": "stream",
     "text": [
      "R2 Score: 0.5943961823384292\n",
      "RMSE Score: 0.6325618206955922\n"
     ]
    }
   ],
   "source": [
    "from sklearn.neural_network import MLPRegressor \n",
    "mlpregressor = MLPRegressor(random_state=1, max_iter=400, solver=\"adam\")\n",
    "mlpregressor.fit(X_train,Y_train)\n",
    "\n",
    "print(\"R2 Score:\",mlpregressor.score(X_test, Y_test))\n",
    "predictions = mlpregressor.predict(X_test)\n",
    "print(f\"RMSE Score: {rmse(Y_test, predictions)}\")\n",
    "\n",
    "# CODE WONT BE EXECUTED; SO WHEN YOU RUN THIS PART. STOP THE KERNAL WHEN YOU HAVE RAN IT"
   ]
  },
  {
   "cell_type": "markdown",
   "metadata": {},
   "source": [
    "# Doing A version of hyper parameter tuning to find the best possible parameters for the MLPRegressor\n",
    "We are using sklearns inbuilt package called GridSearchCV, which does grid search including an x amount of cross validations that can be set in the parameters. we do this to test all the different combinations of parameters to check which parameters is giving us our best score. \n"
   ]
  },
  {
   "cell_type": "code",
   "execution_count": 219,
   "metadata": {},
   "outputs": [],
   "source": [
    "check_parameters = {\n",
    "    'hidden_layer_sizes': [(50,50), (100,50), (150, 100), (12, 6)],\n",
    "    'activation': ['tanh', 'relu', 'logistic'],\n",
    "    'alpha': [0.0001, 0.05],\n",
    "    'learning_rate': ['constant','adaptive'],\n",
    "}"
   ]
  },
  {
   "cell_type": "code",
   "execution_count": 220,
   "metadata": {},
   "outputs": [],
   "source": [
    "try:\n",
    "    gridsearchcv = GridSearchCV(mlpregressor, check_parameters, n_jobs=-1, cv=3)\n",
    "    gridsearchcv.fit(X_train, Y_train)\n",
    "except KeyboardInterrupt:\n",
    "    print(\"You stopped the program, therefor it is not running anymore\")\n",
    "    \n",
    "# THIS TAKES OVER 30 MINUTES TO COMPLETE, SO DO NOT RUN THIS LINE; NOR THE ONE BELOW\n",
    "\n",
    "# Here is the output for the line below:  {'activation': 'tanh', 'alpha': 0.0001, 'hidden_layer_sizes': (100, 50),\n",
    "#'learning_rate': 'constant', 'solver': 'adam'}"
   ]
  },
  {
   "cell_type": "code",
   "execution_count": 221,
   "metadata": {},
   "outputs": [
    {
     "name": "stdout",
     "output_type": "stream",
     "text": [
      "Best parameters found:\n",
      " {'activation': 'tanh', 'alpha': 0.0001, 'hidden_layer_sizes': (100, 50), 'learning_rate': 'constant'}\n"
     ]
    }
   ],
   "source": [
    "print('Best parameters found:\\n', gridsearchcv.best_params_)"
   ]
  },
  {
   "cell_type": "markdown",
   "metadata": {},
   "source": [
    "# MLPRegressor with Hyper Parameter Tuning applied"
   ]
  },
  {
   "cell_type": "code",
   "execution_count": 222,
   "metadata": {},
   "outputs": [
    {
     "name": "stdout",
     "output_type": "stream",
     "text": [
      "R2 Score: 0.6205151346076112\n",
      "RMSE score: 0.6325618206955922\n"
     ]
    }
   ],
   "source": [
    "mlpregressor = MLPRegressor(random_state=1, max_iter=400, activation='tanh', alpha=0.0001, hidden_layer_sizes=(150, 100), \n",
    "                           learning_rate = \"constant\", solver = \"adam\")\n",
    "mlpregressor.fit(X_train,Y_train)\n",
    "\n",
    "print(\"R2 Score:\",mlpregressor.score(X_test, Y_test))\n",
    "print(f\"RMSE score: {rmse(Y_test, predictions)}\")"
   ]
  },
  {
   "cell_type": "code",
   "execution_count": null,
   "metadata": {},
   "outputs": [],
   "source": []
  }
 ],
 "metadata": {
  "kernelspec": {
   "display_name": "Python 3",
   "language": "python",
   "name": "python3"
  },
  "language_info": {
   "codemirror_mode": {
    "name": "ipython",
    "version": 3
   },
   "file_extension": ".py",
   "mimetype": "text/x-python",
   "name": "python",
   "nbconvert_exporter": "python",
   "pygments_lexer": "ipython3",
   "version": "3.8.5"
  }
 },
 "nbformat": 4,
 "nbformat_minor": 4
}
